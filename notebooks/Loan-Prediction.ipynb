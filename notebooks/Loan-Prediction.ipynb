{
 "cells": [
  {
   "cell_type": "code",
   "execution_count": 3,
   "id": "865313a3",
   "metadata": {},
   "outputs": [],
   "source": [
    "import numpy as np\n",
    "import pandas as pd\n",
    "from sklearn.impute import SimpleImputer\n",
    "from sklearn.preprocessing import LabelEncoder, MinMaxScaler"
   ]
  },
  {
   "cell_type": "code",
   "execution_count": 2,
   "id": "4953c90c",
   "metadata": {},
   "outputs": [
    {
     "name": "stdout",
     "output_type": "stream",
     "text": [
      "Collecting pandas\n",
      "  Downloading pandas-2.0.3-cp38-cp38-win_amd64.whl (10.8 MB)\n",
      "     ---------------------------------------- 0.0/10.8 MB ? eta -:--:--\n",
      "     - -------------------------------------- 0.4/10.8 MB 11.8 MB/s eta 0:00:01\n",
      "     --- ------------------------------------ 0.9/10.8 MB 9.7 MB/s eta 0:00:02\n",
      "     ----- ---------------------------------- 1.4/10.8 MB 9.9 MB/s eta 0:00:01\n",
      "     ------- -------------------------------- 2.0/10.8 MB 10.6 MB/s eta 0:00:01\n",
      "     --------- ------------------------------ 2.5/10.8 MB 10.5 MB/s eta 0:00:01\n",
      "     ----------- ---------------------------- 3.0/10.8 MB 10.7 MB/s eta 0:00:01\n",
      "     ------------- -------------------------- 3.5/10.8 MB 10.7 MB/s eta 0:00:01\n",
      "     -------------- ------------------------- 3.8/10.8 MB 10.6 MB/s eta 0:00:01\n",
      "     --------------- ------------------------ 4.2/10.8 MB 9.9 MB/s eta 0:00:01\n",
      "     ----------------- ---------------------- 4.7/10.8 MB 10.1 MB/s eta 0:00:01\n",
      "     ------------------- -------------------- 5.3/10.8 MB 10.2 MB/s eta 0:00:01\n",
      "     --------------------- ------------------ 5.8/10.8 MB 10.5 MB/s eta 0:00:01\n",
      "     ----------------------- ---------------- 6.4/10.8 MB 10.4 MB/s eta 0:00:01\n",
      "     -------------------------- ------------- 7.1/10.8 MB 10.5 MB/s eta 0:00:01\n",
      "     ---------------------------- ----------- 7.8/10.8 MB 10.5 MB/s eta 0:00:01\n",
      "     ------------------------------ --------- 8.3/10.8 MB 10.6 MB/s eta 0:00:01\n",
      "     -------------------------------- ------- 8.8/10.8 MB 10.6 MB/s eta 0:00:01\n",
      "     ---------------------------------- ----- 9.3/10.8 MB 10.7 MB/s eta 0:00:01\n",
      "     ------------------------------------ --- 9.9/10.8 MB 10.7 MB/s eta 0:00:01\n",
      "     ------------------------------------- - 10.4/10.8 MB 10.7 MB/s eta 0:00:01\n",
      "     --------------------------------------  10.8/10.8 MB 10.7 MB/s eta 0:00:01\n",
      "     --------------------------------------- 10.8/10.8 MB 10.2 MB/s eta 0:00:00\n",
      "Requirement already satisfied: python-dateutil>=2.8.2 in c:\\users\\jayta\\.conda\\envs\\mycvenv\\lib\\site-packages (from pandas) (2.8.2)\n",
      "Collecting tzdata>=2022.1\n",
      "  Downloading tzdata-2024.1-py2.py3-none-any.whl (345 kB)\n",
      "     ---------------------------------------- 0.0/345.4 kB ? eta -:--:--\n",
      "     ------------------------------------- 345.4/345.4 kB 10.5 MB/s eta 0:00:00\n",
      "Requirement already satisfied: numpy>=1.20.3 in c:\\users\\jayta\\.conda\\envs\\mycvenv\\lib\\site-packages (from pandas) (1.24.3)\n",
      "Collecting pytz>=2020.1\n",
      "  Downloading pytz-2024.1-py2.py3-none-any.whl (505 kB)\n",
      "     ---------------------------------------- 0.0/505.5 kB ? eta -:--:--\n",
      "     ------------------------------------- 505.5/505.5 kB 10.5 MB/s eta 0:00:00\n",
      "Requirement already satisfied: six>=1.5 in c:\\users\\jayta\\.conda\\envs\\mycvenv\\lib\\site-packages (from python-dateutil>=2.8.2->pandas) (1.16.0)\n",
      "Installing collected packages: pytz, tzdata, pandas\n",
      "Successfully installed pandas-2.0.3 pytz-2024.1 tzdata-2024.1\n"
     ]
    }
   ],
   "source": []
  },
  {
   "cell_type": "code",
   "execution_count": null,
   "id": "30dd7a7c",
   "metadata": {},
   "outputs": [],
   "source": []
  }
 ],
 "metadata": {
  "kernelspec": {
   "display_name": "Python 3 (ipykernel)",
   "language": "python",
   "name": "python3"
  },
  "language_info": {
   "codemirror_mode": {
    "name": "ipython",
    "version": 3
   },
   "file_extension": ".py",
   "mimetype": "text/x-python",
   "name": "python",
   "nbconvert_exporter": "python",
   "pygments_lexer": "ipython3",
   "version": "3.8.16"
  }
 },
 "nbformat": 4,
 "nbformat_minor": 5
}
